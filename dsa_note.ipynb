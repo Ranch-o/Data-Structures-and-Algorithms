{
 "cells": [
  {
   "attachments": {},
   "cell_type": "markdown",
   "metadata": {},
   "source": [
    "![这是一个示例图片](/Users/zhengyang/zhengyang/Documents/Learning/dsa/dsa_note/images/hello_algo_mindmap.png)\n"
   ]
  },
  {
   "attachments": {},
   "cell_type": "markdown",
   "metadata": {},
   "source": [
    "![这是一个示例图片](/Users/zhengyang/zhengyang/Documents/Learning/dsa/dsa_note/images/hello_algo_mindmap_chinese.png)"
   ]
  },
  {
   "attachments": {},
   "cell_type": "markdown",
   "metadata": {},
   "source": [
    "整个世界就是数据及其算法：数据主义 ( Dataism）\n",
    "\n",
    "《人类简史》作者尤瓦尔。赫拉利\n",
    "\n",
    "将生命活动理解为数据流传输及处理算法，人类智慧和自由意识也无法例外\n",
    "\n",
    "生命科学和信息技术正在逐渐破坏自由意志和个人主义\n",
    "\n",
    "科学研究正在证明：自由的个人仅仅是一个由一组生物化学算法捏造而成的虛构的故事。\n",
    "\n",
    "西部世界第三季.West World So3.2020：世界的镜像\n",
    "\n",
    "超时空接触,Contact.1997\n",
    "\n",
    "Donald in Mathmagic Land.1959"
   ]
  },
  {
   "attachments": {},
   "cell_type": "markdown",
   "metadata": {},
   "source": [
    "#### 问题解决的 “计算” 之道\n",
    "•20世纪20年代，为了解决数学本身的可\n",
    "检验性问题，大数学家希尔伯特提出 “能否找到一种基于有穷观点的能行方法 ，来\n",
    "判定任何一个数学命题的真假〞\n",
    "\n",
    "#### 抽象的“计算”概念提出\n",
    "基于有穷观点的能行方法\n",
    "由有限数量的明确有限指令构成；\n",
    "指令执行在有限步骤后终止；\n",
    "指令每次执行都总能得到唯一结果；\n",
    "原则上可以由人单独来用纸笔完成，而不依靠其它辅助；\n",
    "每条指令可以机械地被精确执行，而不需要智慧和灵感。"
   ]
  },
  {
   "attachments": {},
   "cell_type": "markdown",
   "metadata": {},
   "source": [
    "### 迭代与递归\n",
    "\n",
    "在算法中，重复执行某个任务是很常见的，它与复杂度分析息息相关。因此，在介绍时间复杂度和空间复杂度之前，我们先来了解如何在程序中实现重复执行任务，即两种基本的程序控制结构：迭代、递归。\n",
    "\n",
    "#### 迭代\n",
    "「迭代 iteration」是一种重复执行某个任务的控制结构。在迭代中，程序会在满足一定的条件下重复执行某段代码，直到这个条件不再满足。\n",
    "\n",
    "##### 1. for循环\n",
    "for 循环是最常见的迭代形式之一，适合在预先知道迭代次数时使用。\n",
    "\n",
    "以下函数基于 for 循环实现了求和 \n",
    " ，求和结果使用变量 res 记录。需要注意的是，Python 中 range(a, b) 对应的区间是“左闭右开”的，对应的遍历范围为a, a+1,..., b+1:"
   ]
  },
  {
   "cell_type": "code",
   "execution_count": 2,
   "metadata": {},
   "outputs": [
    {
     "name": "stdout",
     "output_type": "stream",
     "text": [
      "\n",
      "for 循环的求和结果 res = 15\n"
     ]
    }
   ],
   "source": [
    "def for_loop(n: int) -> int:\n",
    "    \"\"\"for 循环\"\"\"\n",
    "    res = 0\n",
    "    # 循环求和 1, 2, ..., n-1, n\n",
    "    for i in range(1, n + 1):\n",
    "        res += i\n",
    "    return res\n",
    "\n",
    "\"\"\"Driver Code\"\"\"\n",
    "if __name__ == \"__main__\":\n",
    "    n = 5\n",
    "    res = for_loop(n)\n",
    "    print(f\"\\nfor 循环的求和结果 res = {res}\")"
   ]
  },
  {
   "attachments": {},
   "cell_type": "markdown",
   "metadata": {},
   "source": [
    "此求和函数的操作数量与输入数据大小成正比，或者说成“线性关系”。实际上，时间复杂度描述的就是这个“线性关系”。\n",
    "\n",
    "##### 2. while循环\n",
    " "
   ]
  },
  {
   "attachments": {},
   "cell_type": "markdown",
   "metadata": {},
   "source": [
    "## 算法分析"
   ]
  },
  {
   "attachments": {},
   "cell_type": "markdown",
   "metadata": {},
   "source": [
    "算法：逻辑层面\n",
    "\n",
    "程序：物理层面"
   ]
  },
  {
   "attachments": {},
   "cell_type": "markdown",
   "metadata": {},
   "source": [
    "#### 累计求和问题"
   ]
  },
  {
   "cell_type": "code",
   "execution_count": 6,
   "metadata": {},
   "outputs": [
    {
     "name": "stdout",
     "output_type": "stream",
     "text": [
      "55\n"
     ]
    }
   ],
   "source": [
    "# 累计求和问题：\n",
    "# 完成从1到n的累加，输出总和。\n",
    "# 设置累计变量=0\n",
    "# 从1到n循环，逐次累加到累计变量\n",
    "# 返回累计变量\n",
    "\n",
    "def sum0fN(n):\n",
    "    theSum = 0\n",
    "    for i in range(1, n+1):\n",
    "        theSum = theSum + i\n",
    "    return theSum\n",
    "\n",
    "print(sum0fN(10))"
   ]
  },
  {
   "attachments": {},
   "cell_type": "markdown",
   "metadata": {},
   "source": [
    "比较程序的好坏：代码风格、可读性\n",
    "\n",
    "算法分析主要是从计算资源消耗的角度来评判和比较算法。\n",
    "\n",
    "更高效利用计算资源，或者更少占用计算资源的算法，就是好算法。\n",
    "\n",
    "##### 计算资源：\n",
    "\n",
    "1. 算法解决问题过程中需要的储存空间或内存\n",
    "\n",
    "    但存储空间受到问题自身数据規模的变化影响。不容易区分哪些存储空间是问题本身描述所需，哪些是算法占用。\n",
    "\n",
    "2. 算法的执行时间\n",
    "\n",
    "    我们可以对程序进行实际运行测试，获得真实的运行时间。"
   ]
  },
  {
   "attachments": {},
   "cell_type": "markdown",
   "metadata": {},
   "source": [
    "#### 运行时间检测：\n",
    "\n",
    "Python中有一个time模块，可以获取计算机系统当前时间。在算法开始前和结束后分别记录系统时间，即可得到运行时间。"
   ]
  },
  {
   "cell_type": "code",
   "execution_count": 17,
   "metadata": {},
   "outputs": [
    {
     "name": "stdout",
     "output_type": "stream",
     "text": [
      "Sum is 5000050000 required  0.0066981 seconds\n",
      "Sum is 500000500000 required  0.0678048 seconds\n",
      "Sum is 50000005000000 required  0.6619179 seconds\n",
      "Sum is 5000000050000000 required  6.6246510 seconds\n",
      "Sum is 5000050000 required  0.0063779 seconds\n",
      "Sum is 500000500000 required  0.0636032 seconds\n",
      "Sum is 50000005000000 required  0.6696403 seconds\n",
      "Sum is 5000000050000000 required  6.6357908 seconds\n",
      "Sum is 5000050000 required  0.0066392 seconds\n",
      "Sum is 500000500000 required  0.0644591 seconds\n",
      "Sum is 50000005000000 required  0.6615522 seconds\n",
      "Sum is 5000000050000000 required  6.6054928 seconds\n",
      "Sum is 5000050000 required  0.0062931 seconds\n",
      "Sum is 500000500000 required  0.0644131 seconds\n",
      "Sum is 50000005000000 required  0.6539540 seconds\n",
      "Sum is 5000000050000000 required  6.6918011 seconds\n",
      "Sum is 5000050000 required  0.0063732 seconds\n",
      "Sum is 500000500000 required  0.0635579 seconds\n",
      "Sum is 50000005000000 required  0.6581581 seconds\n",
      "Sum is 5000000050000000 required  6.4480410 seconds\n"
     ]
    }
   ],
   "source": [
    "# 累计求和程序的运行时间检测\n",
    "# 用time检测总运行时间\n",
    "# 返回累计和，以及运行时间（秒）。\n",
    "\n",
    "import time\n",
    "\n",
    "def sum0fN(n):\n",
    "    start = time.time()\n",
    "    theSum = 0\n",
    "    for i in range(1, n+1):\n",
    "        theSum = theSum + i\n",
    "    end = time.time()\n",
    "    return theSum, end - start\n",
    "\n",
    "for i in range(5):\n",
    "    print(\"Sum is %d required %10.7f seconds\"  # 其中 %d 被替换为求和结果，%10.7f 被替换为计算时间的浮点数表示。\n",
    "          % sum0fN(100000))\n",
    "    \n",
    "    print(\"Sum is %d required %10.7f seconds\"  # 其中 %d 被替换为求和结果，%10.7f 被替换为计算时间的浮点数表示。\n",
    "          % sum0fN(1000000))\n",
    "    \n",
    "    print(\"Sum is %d required %10.7f seconds\"  # 其中 %d 被替换为求和结果，%10.7f 被替换为计算时间的浮点数表示。\n",
    "          % sum0fN(10000000))\n",
    "    \n",
    "    print(\"Sum is %d required %10.7f seconds\"  # 其中 %d 被替换为求和结果，%10.7f 被替换为计算时间的浮点数表示。\n",
    "          % sum0fN(100000000))\n",
    "\n",
    "\n",
    "\n",
    "# \"Sum is %d required %10.7f seconds\" 是一个字符串，其中包含了一些占位符，这些占位符后面会被具体的值替代。\n",
    "\n",
    "    # %d 是一个整数占位符，用来表示整数值。\n",
    "    # %10.7f 是一个浮点数占位符，用来表示带有小数点的浮点数，其中 %10.7f 意味着总宽度为10，小数部分有7位的浮点数。\n",
    "\n",
    "# % 操作符后面跟着 sum0fN(10000)，这是一个函数调用，会返回一个包含两个值的元组，分别是求和结果和计算所需的时间。\n",
    "\n",
    "# % 操作符左边的字符串中的占位符会被右边的元组中的值替代，按照顺序匹配占位符。\n",
    "\n",
    "# 所以，这行代码的作用是将 sum0fN(10000) 函数的返回值中的整数部分和浮点数部分分别插入到字符串中的 %d 和 %10.7f 占位符的位置，从而生成一条包含求和结果和计算时间的字符串"
   ]
  },
  {
   "attachments": {},
   "cell_type": "markdown",
   "metadata": {},
   "source": [
    "##### 第二种无迭代的累积算法\n",
    "\n",
    "这种算法的运行时间比前种都短很多\n",
    "\n",
    "运行时间和累积对象n的大小没有关系（前种算法是倍数增长关系）\n",
    "\n",
    "新算法运行时间几乎与须要累计的数目无关"
   ]
  },
  {
   "cell_type": "code",
   "execution_count": 19,
   "metadata": {},
   "outputs": [
    {
     "name": "stdout",
     "output_type": "stream",
     "text": [
      "Sum is 5000050000 required  0.0000012 seconds\n",
      "Sum is 500000500000 required  0.0000010 seconds\n",
      "Sum is 50000005000000 required  0.0000010 seconds\n",
      "Sum is 5000000050000000 required  0.0000010 seconds\n",
      "Sum is 5000050000 required  0.0000000 seconds\n",
      "Sum is 500000500000 required  0.0000000 seconds\n",
      "Sum is 50000005000000 required  0.0000010 seconds\n",
      "Sum is 5000000050000000 required  0.0000010 seconds\n",
      "Sum is 5000050000 required  0.0000010 seconds\n",
      "Sum is 500000500000 required  0.0000000 seconds\n",
      "Sum is 50000005000000 required  0.0000000 seconds\n",
      "Sum is 5000000050000000 required  0.0000010 seconds\n",
      "Sum is 5000050000 required  0.0000000 seconds\n",
      "Sum is 500000500000 required  0.0000000 seconds\n",
      "Sum is 50000005000000 required  0.0000000 seconds\n",
      "Sum is 5000000050000000 required  0.0000000 seconds\n",
      "Sum is 5000050000 required  0.0000000 seconds\n",
      "Sum is 500000500000 required  0.0000010 seconds\n",
      "Sum is 50000005000000 required  0.0000010 seconds\n",
      "Sum is 5000000050000000 required  0.0000000 seconds\n"
     ]
    }
   ],
   "source": [
    "# 第二种无迭代的累积算法\n",
    "\n",
    "# 利用求和公式的无迭代算法\n",
    "\n",
    "def sum0fN3(n):\n",
    "    start = time.time()\n",
    "    sum = ((1+n)*n)/2\n",
    "    end = time.time()\n",
    "    return sum, end - start\n",
    "\n",
    "for i in range(5):\n",
    "    print(\"Sum is %d required %10.7f seconds\"  # 其中 %d 被替换为求和结果，%10.7f 被替换为计算时间的浮点数表示。\n",
    "          % sum0fN3(100000))\n",
    "    \n",
    "    print(\"Sum is %d required %10.7f seconds\"  # 其中 %d 被替换为求和结果，%10.7f 被替换为计算时间的浮点数表示。\n",
    "          % sum0fN3(1000000))\n",
    "    \n",
    "    print(\"Sum is %d required %10.7f seconds\"  # 其中 %d 被替换为求和结果，%10.7f 被替换为计算时间的浮点数表示。\n",
    "          % sum0fN3(10000000))\n",
    "    \n",
    "    print(\"Sum is %d required %10.7f seconds\"  # 其中 %d 被替换为求和结果，%10.7f 被替换为计算时间的浮点数表示。\n",
    "          % sum0fN3(100000000))\n"
   ]
  },
  {
   "attachments": {},
   "cell_type": "markdown",
   "metadata": {},
   "source": [
    "##### 运行时间检测的分析\n",
    "\n",
    "但关于运行时间的实际检测 ，有点问题\n",
    "关于编程语言和运行环境\n",
    "\n",
    "同一个算法，采用不同的编程语言编写，放在不同的机器上运行，得到的运行时间会不一样，有时候会大不一样：\n",
    "比如把非选代算法放在老旧机器上跑，甚至可能慢过新机器上的迭代算法\n",
    "\n",
    "我们需要更好的方法来衡量算法运行时间\n",
    "这个指标与具体的机器、程序、运行时段都无关"
   ]
  },
  {
   "attachments": {},
   "cell_type": "markdown",
   "metadata": {},
   "source": [
    "算法学习路线¶\n",
    "从总体上看，我们可以将学习数据结构与算法的过程划分为三个阶段。\n",
    "\n",
    "阶段一：算法入门。我们需要熟悉各种数据结构的特点和用法，学习不同算法的原理、流程、用途和效率等方面的内容。(hello-algo)\n",
    "\n",
    "阶段二：刷算法题。建议从热门题目开刷，先积累至少 100 道题目，熟悉主流的算法问题。初次刷题时，“知识遗忘”可能是一个挑战，但请放心，这是很正常的。我们可以按照“艾宾浩斯遗忘曲线”来复习题目，通常在进行 3～5 轮的重复后，就能将其牢记在心。推荐的题单和刷题计划请见此 GitHub 仓库。\n",
    "\n",
    "阶段三：搭建知识体系。在学习方面，我们可以阅读算法专栏文章、解题框架和算法教材，以不断丰富知识体系。在刷题方面，可以尝试采用进阶刷题策略，如按专题分类、一题多解、一解多题等，相关的刷题心得可以在各个社区找到。"
   ]
  },
  {
   "attachments": {},
   "cell_type": "markdown",
   "metadata": {},
   "source": [
    "![这是一个示例图片](/Users/zhengyang/zhengyang/Documents/Learning/dsa/dsa_note/images/learning_route.png)"
   ]
  },
  {
   "attachments": {},
   "cell_type": "markdown",
   "metadata": {},
   "source": [
    "# 算法复杂度分析\n",
    "\n",
    "## 算法效率评估\n",
    "在算法设计中，我们先后追求以下两个层面的目标。\n",
    "\n",
    "找到问题解法：算法需要在规定的输入范围内可靠地求得问题的正确解。\n",
    "寻求最优解法：同一个问题可能存在多种解法，我们希望找到尽可能高效的算法。\n",
    "也就是说，在能够解决问题的前提下，算法效率已成为衡量算法优劣的主要评价指标，它包括以下两个维度。\n",
    "\n",
    "时间效率：算法运行速度的快慢。\n",
    "空间效率：算法占用内存空间的大小。\n",
    "简而言之，我们的目标是设计“既快又省”的数据结构与算法。而有效地评估算法效率至关重要，因为只有这样，我们才能将各种算法进行对比，进而指导算法设计与优化过程。\n",
    "\n",
    "效率评估方法主要分为两种：实际测试、理论估算。\n",
    "\n",
    "### 实际测试¶\n",
    "假设我们现在有算法 A 和算法 B ，它们都能解决同一问题，现在需要对比这两个算法的效率。最直接的方法是找一台计算机，运行这两个算法，并监控记录它们的运行时间和内存占用情况。这种评估方式能够反映真实情况，但也存在较大的局限性。\n",
    "\n",
    "一方面，难以排除测试环境的干扰因素。硬件配置会影响算法的性能。比如在某台计算机中，算法 A 的运行时间比算法 B 短；但在另一台配置不同的计算机中，可能得到相反的测试结果。这意味着我们需要在各种机器上进行测试，统计平均效率，而这是不现实的。\n",
    "\n",
    "另一方面，展开完整测试非常耗费资源。随着输入数据量的变化，算法会表现出不同的效率。例如，在输入数据量较小时，算法 A 的运行时间比算法 B 短；而在输入数据量较大时，测试结果可能恰恰相反。因此，为了得到有说服力的结论，我们需要测试各种规模的输入数据，而这需要耗费大量的计算资源。"
   ]
  },
  {
   "cell_type": "code",
   "execution_count": null,
   "metadata": {},
   "outputs": [],
   "source": []
  }
 ],
 "metadata": {
  "kernelspec": {
   "display_name": "Python 3",
   "language": "python",
   "name": "python3"
  },
  "language_info": {
   "codemirror_mode": {
    "name": "ipython",
    "version": 3
   },
   "file_extension": ".py",
   "mimetype": "text/x-python",
   "name": "python",
   "nbconvert_exporter": "python",
   "pygments_lexer": "ipython3",
   "version": "3.8.5"
  },
  "orig_nbformat": 4
 },
 "nbformat": 4,
 "nbformat_minor": 2
}
