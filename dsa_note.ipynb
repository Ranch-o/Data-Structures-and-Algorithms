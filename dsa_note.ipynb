{
 "cells": [
  {
   "attachments": {},
   "cell_type": "markdown",
   "metadata": {},
   "source": [
    "整个世界就是数据及其算法：数据主义 ( Dataism）\n",
    "\n",
    "《人类简史》作者尤瓦尔。赫拉利\n",
    "\n",
    "将生命活动理解为数据流传输及处理算法，人类智慧和自由意识也无法例外\n",
    "\n",
    "生命科学和信息技术正在逐渐破坏自由意志和个人主义\n",
    "\n",
    "科学研究正在证明：自由的个人仅仅是一个由一组生物化学算法捏造而成的虛构的故事。\n",
    "\n",
    "西部世界第三季.West World So3.2020：世界的镜像\n",
    "\n",
    "超时空接触,Contact.1997\n",
    "\n",
    "Donald in Mathmagic Land.1959"
   ]
  },
  {
   "attachments": {},
   "cell_type": "markdown",
   "metadata": {},
   "source": [
    "#### 问题解决的 “计算” 之道\n",
    "•20世纪20年代，为了解决数学本身的可\n",
    "检验性问题，大数学家希尔伯特提出 “能否找到一种基于有穷观点的能行方法 ，来\n",
    "判定任何一个数学命题的真假〞\n",
    "\n",
    "#### 抽象的“计算”概念提出\n",
    "基于有穷观点的能行方法\n",
    "由有限数量的明确有限指令构成；\n",
    "指令执行在有限步骤后终止；\n",
    "指令每次执行都总能得到唯一结果；\n",
    "原则上可以由人单独来用纸笔完成，而不依靠其它辅助；\n",
    "每条指令可以机械地被精确执行，而不需要智慧和灵感。"
   ]
  },
  {
   "attachments": {},
   "cell_type": "markdown",
   "metadata": {},
   "source": [
    "## 算法分析"
   ]
  },
  {
   "attachments": {},
   "cell_type": "markdown",
   "metadata": {},
   "source": [
    "算法：逻辑层面\n",
    "\n",
    "程序：物理层面"
   ]
  },
  {
   "attachments": {},
   "cell_type": "markdown",
   "metadata": {},
   "source": [
    "#### 累计求和问题"
   ]
  },
  {
   "cell_type": "code",
   "execution_count": 6,
   "metadata": {},
   "outputs": [
    {
     "name": "stdout",
     "output_type": "stream",
     "text": [
      "55\n"
     ]
    }
   ],
   "source": [
    "# 累计求和问题：\n",
    "# 完成从1到n的累加，输出总和。\n",
    "# 设置累计变量=0\n",
    "# 从1到n循环，逐次累加到累计变量\n",
    "# 返回累计变量\n",
    "\n",
    "def sum0fN(n):\n",
    "    theSum = 0\n",
    "    for i in range(1, n+1):\n",
    "        theSum = theSum + i\n",
    "    return theSum\n",
    "\n",
    "print(sum0fN(10))"
   ]
  },
  {
   "attachments": {},
   "cell_type": "markdown",
   "metadata": {},
   "source": [
    "比较程序的好坏：代码风格、可读性\n",
    "\n",
    "算法分析主要是从计算资源消耗的角度来评判和比较算法。\n",
    "\n",
    "更高效利用计算资源，或者更少占用计算资源的算法，就是好算法。\n",
    "\n",
    "##### 计算资源：\n",
    "\n",
    "1. 算法解决问题过程中需要的储存空间或内存\n",
    "\n",
    "    但存储空间受到问题自身数据規模的变化影响。不容易区分哪些存储空间是问题本身描述所需，哪些是算法占用。\n",
    "\n",
    "2. 算法的执行时间\n",
    "\n",
    "    我们可以对程序进行实际运行测试，获得真实的运行时间。"
   ]
  },
  {
   "attachments": {},
   "cell_type": "markdown",
   "metadata": {},
   "source": [
    "#### 运行时间检测：\n",
    "\n",
    "Python中有一个time模块，可以获取计算机系统当前时间。在算法开始前和结束后分别记录系统时间，即可得到运行时间。"
   ]
  },
  {
   "cell_type": "code",
   "execution_count": 14,
   "metadata": {},
   "outputs": [
    {
     "name": "stdout",
     "output_type": "stream",
     "text": [
      "Sum is 50005000 required  0.0005600 seconds\n",
      "Sum is 50005000 required  0.0005641 seconds\n",
      "Sum is 50005000 required  0.0005660 seconds\n",
      "Sum is 50005000 required  0.0005651 seconds\n",
      "Sum is 50005000 required  0.0005600 seconds\n"
     ]
    }
   ],
   "source": [
    "# 累计求和程序的运行时间检测\n",
    "# 用time检测总运行时间\n",
    "# 返回累计和，以及运行时间（秒）。\n",
    "\n",
    "import time\n",
    "\n",
    "def sum0fN(n):\n",
    "    start = time.time()\n",
    "    theSum = 0\n",
    "    for i in range(1, n+1):\n",
    "        theSum = theSum + i\n",
    "    end = time.time()\n",
    "    return theSum, end - start\n",
    "\n",
    "for i in range(5):\n",
    "    print(\"Sum is %d required %10.7f seconds\"\n",
    "          % sum0fN(10000))"
   ]
  }
 ],
 "metadata": {
  "kernelspec": {
   "display_name": "Python 3",
   "language": "python",
   "name": "python3"
  },
  "language_info": {
   "codemirror_mode": {
    "name": "ipython",
    "version": 3
   },
   "file_extension": ".py",
   "mimetype": "text/x-python",
   "name": "python",
   "nbconvert_exporter": "python",
   "pygments_lexer": "ipython3",
   "version": "3.11.1"
  },
  "orig_nbformat": 4
 },
 "nbformat": 4,
 "nbformat_minor": 2
}
