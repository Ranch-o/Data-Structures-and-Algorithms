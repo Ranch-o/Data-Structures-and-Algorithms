{
 "cells": [
  {
   "attachments": {},
   "cell_type": "markdown",
   "metadata": {},
   "source": [
    "## 「动态规划 dynamic programming」：\n",
    "#### 一个重要的算法范式，它将一个问题分解为一系列更小的子问题，并通过存储子问题的解来避免重复计算，从而大幅提升时间效率。"
   ]
  },
  {
   "attachments": {},
   "cell_type": "markdown",
   "metadata": {},
   "source": [
    "### 例题：对于举证A1(20 * 25), A2(25 * 5),A3(5 * 15),A4(15 * 10),A5(10 * 20),A6(20 * 25),怎样的计算是开销最小的\n",
    "\n",
    "为了找出矩阵连乘积中的最小乘法开销，我们可以使用动态规划的方法。这种问题通常通过构建一个表来解决，表中的每个元素代表一个特定矩阵连乘积的最小乘法次数。动态规划的方法利用了矩阵连乘的结合律，通过优化矩阵乘法的组合顺序来减少总的乘法操作次数。我们可以使用一个动态规划的算法来解决这个问题。算法的基本思想是，对于每一对矩阵连乘积，找到一个划分点，使得在这个点将序列分为两部分的乘法开销最小。这个最小开销是左半部分的最小开销、右半部分的最小开销和这两部分结果相乘的开销之和。\n",
    "\n",
    "我们需要计算所有可能的乘法顺序，以找到最小的乘法次数。动态规划方法会计算所有可能的分割方式，为每一种可能的矩阵乘法顺序找到最小乘法次数。这种方法基于这样一个事实：任何矩阵链乘法A_i * A_i+1 * ... * A_j的最优解，其子问题A_i * A_i+1 * ... * A_k和A_k * A_k+1 * ... * A_j也必须是各自的最优解。因此，我们可以使用一个表格来保存子问题的最优解，然后构建起整个问题的最优解。\n",
    "\n",
    "具体实施时，我们会创建一个表格m，其中m[i][j]表示计算矩阵A_i到A_j的连乘积所需的最小乘法次数。通过比较所有可能的分割点来填充这个表格。最终，m[1][n]就包含了整个链的最小乘法次数。"
   ]
  },
  {
   "cell_type": "code",
   "execution_count": 4,
   "metadata": {},
   "outputs": [
    {
     "name": "stdout",
     "output_type": "stream",
     "text": [
      "[[0, 0, 0, 0, 0, 0], [0, 0, 0, 0, 0, 0], [0, 0, 0, 0, 0, 0], [0, 0, 0, 0, 0, 0], [0, 0, 0, 0, 0, 0], [0, 0, 0, 0, 0, 0]]\n"
     ]
    },
    {
     "data": {
      "text/plain": [
       "9250"
      ]
     },
     "execution_count": 4,
     "metadata": {},
     "output_type": "execute_result"
    }
   ],
   "source": [
    "def matrix_chain_order(p):\n",
    "    n = len(p) - 1  # 矩阵数量\n",
    "    m = [[0 for _ in range(n)] for _ in range(n)]\n",
    "    print(m)\n",
    "    s = [[0 for _ in range(n)] for _ in range(n)]\n",
    "    \n",
    "    for L in range(2, n + 1):  # L是链的长度\n",
    "        for i in range(n - L + 1):\n",
    "            j = i + L - 1\n",
    "            m[i][j] = float('inf')\n",
    "            for k in range(i, j):\n",
    "                q = m[i][k] + m[k + 1][j] + p[i] * p[k + 1] * p[j + 1]\n",
    "                if q < m[i][j]:\n",
    "                    m[i][j] = q\n",
    "                    s[i][j] = k\n",
    "    return m[0][n - 1]\n",
    "\n",
    "# 矩阵的尺寸\n",
    "p = [20, 25, 5, 15, 10, 20, 25]\n",
    "# 计算最小乘法次数\n",
    "min_cost = matrix_chain_order(p)\n",
    "min_cost\n"
   ]
  },
  {
   "cell_type": "code",
   "execution_count": 3,
   "metadata": {},
   "outputs": [
    {
     "name": "stdout",
     "output_type": "stream",
     "text": [
      "Minimum number of multiplications is: 9250\n",
      "Optimal parenthesization is: ((A1A2)(((A3A4)A5)A6))"
     ]
    }
   ],
   "source": [
    "def print_optimal_parens(s, i, j):\n",
    "    if i == j:\n",
    "        print(f\"A{i+1}\", end=\"\")\n",
    "    else:\n",
    "        print(\"(\", end=\"\")\n",
    "        print_optimal_parens(s, i, s[i][j])\n",
    "        print_optimal_parens(s, s[i][j] + 1, j)\n",
    "        print(\")\", end=\"\")\n",
    "\n",
    "def matrix_chain_order(p):\n",
    "    n = len(p) - 1  # 矩阵数量\n",
    "    m = [[0 for _ in range(n)] for _ in range(n)]\n",
    "    s = [[0 for _ in range(n)] for _ in range(n)]\n",
    "    \n",
    "    for L in range(2, n + 1):  # L是链的长度\n",
    "        for i in range(n - L + 1):\n",
    "            j = i + L - 1\n",
    "            m[i][j] = float('inf')\n",
    "            for k in range(i, j):\n",
    "                q = m[i][k] + m[k + 1][j] + p[i] * p[k + 1] * p[j + 1]\n",
    "                if q < m[i][j]:\n",
    "                    m[i][j] = q\n",
    "                    s[i][j] = k\n",
    "    return m, s\n",
    "\n",
    "# 示例输入\n",
    "p = [20, 25, 5, 15, 10, 20, 25]\n",
    "# 计算最小乘法次数和分割点\n",
    "m, s = matrix_chain_order(p)\n",
    "\n",
    "print(\"Minimum number of multiplications is:\", m[0][len(p)-2])\n",
    "print(\"Optimal parenthesization is: \", end=\"\")\n",
    "print_optimal_parens(s, 0, len(p)-2)\n"
   ]
  }
 ],
 "metadata": {
  "kernelspec": {
   "display_name": "Python 3",
   "language": "python",
   "name": "python3"
  },
  "language_info": {
   "codemirror_mode": {
    "name": "ipython",
    "version": 3
   },
   "file_extension": ".py",
   "mimetype": "text/x-python",
   "name": "python",
   "nbconvert_exporter": "python",
   "pygments_lexer": "ipython3",
   "version": "3.8.5"
  },
  "orig_nbformat": 4
 },
 "nbformat": 4,
 "nbformat_minor": 2
}
